{
 "cells": [
  {
   "cell_type": "code",
   "execution_count": 3,
   "id": "2021ef38",
   "metadata": {},
   "outputs": [],
   "source": [
    "import pydicom\n",
    "\n",
    "def read_dicom_file(file_path):\n",
    "    \"\"\"\n",
    "    Reads a DICOM file and returns the dataset.\n",
    "\n",
    "    :param file_path: Path to the DICOM file.\n",
    "    :return: pydicom Dataset object.\n",
    "    \"\"\"\n",
    "    try:\n",
    "        dataset = pydicom.dcmread(file_path)\n",
    "        return dataset\n",
    "    except Exception as e:\n",
    "        print(f\"Error reading DICOM file: {e}\")\n",
    "        return None\n",
    "    \n",
    "\n"
   ]
  },
  {
   "cell_type": "code",
   "execution_count": 4,
   "id": "e627fae0",
   "metadata": {},
   "outputs": [
    {
     "ename": "SyntaxError",
     "evalue": "(unicode error) 'unicodeescape' codec can't decode bytes in position 2-3: truncated \\UXXXXXXXX escape (1836836404.py, line 1)",
     "output_type": "error",
     "traceback": [
      "\u001b[1;36m  Cell \u001b[1;32mIn[4], line 1\u001b[1;36m\u001b[0m\n\u001b[1;33m    read_dicom_file(\"C:\\Users\\david\\Downloads\\2.16.840.1.114362.1.12177026.23360333229.706746605.172.17.dcm\")\u001b[0m\n\u001b[1;37m                    ^\u001b[0m\n\u001b[1;31mSyntaxError\u001b[0m\u001b[1;31m:\u001b[0m (unicode error) 'unicodeescape' codec can't decode bytes in position 2-3: truncated \\UXXXXXXXX escape\n"
     ]
    }
   ],
   "source": [
    "read_dicom_file(\"C:\\Users\\david\\Downloads\\2.16.840.1.114362.1.12177026.23360333229.706746605.172.17.dcm\")"
   ]
  }
 ],
 "metadata": {
  "kernelspec": {
   "display_name": "Python 3",
   "language": "python",
   "name": "python3"
  },
  "language_info": {
   "codemirror_mode": {
    "name": "ipython",
    "version": 3
   },
   "file_extension": ".py",
   "mimetype": "text/x-python",
   "name": "python",
   "nbconvert_exporter": "python",
   "pygments_lexer": "ipython3",
   "version": "3.12.0"
  }
 },
 "nbformat": 4,
 "nbformat_minor": 5
}
